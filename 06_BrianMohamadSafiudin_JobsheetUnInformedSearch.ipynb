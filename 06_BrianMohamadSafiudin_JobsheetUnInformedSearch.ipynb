{
  "nbformat": 4,
  "nbformat_minor": 0,
  "metadata": {
    "colab": {
      "provenance": [],
      "collapsed_sections": [],
      "authorship_tag": "ABX9TyPBopdaoAUQ7PO9eEWItY6/",
      "include_colab_link": true
    },
    "kernelspec": {
      "name": "python3",
      "display_name": "Python 3"
    },
    "language_info": {
      "name": "python"
    }
  },
  "cells": [
    {
      "cell_type": "markdown",
      "metadata": {
        "id": "view-in-github",
        "colab_type": "text"
      },
      "source": [
        "<a href=\"https://colab.research.google.com/github/BrianMohamadSafiudin/JobsheetInformedSearch/blob/main/06_BrianMohamadSafiudin_JobsheetUnInformedSearch.ipynb\" target=\"_parent\"><img src=\"https://colab.research.google.com/assets/colab-badge.svg\" alt=\"Open In Colab\"/></a>"
      ]
    },
    {
      "cell_type": "code",
      "source": [
        "# //*Praktikum 1*//\n",
        "\n",
        "class Graph:\n",
        "  def __init__(self, adjacency_list):\n",
        "    self.adjacency_list = adjacency_list\n",
        "  def get_neighbors(self, v):\n",
        "    return self.adjacency_list[v]\n",
        "  \n",
        "  # heuristic function with equal values for all nodes\n",
        "  def h(self, n):\n",
        "    H = {\n",
        "      'A': 1,\n",
        "      'B': 1,\n",
        "      'C': 1,\n",
        "      'D': 1\n",
        "    }\n",
        "    return H[n]\n",
        "\n",
        "\n",
        "  def a_star_algorithm(self, start_node, stop_node):\n",
        "    # open list is a list of nodes which have been visited, but who's neighbors\n",
        "    # haven't all been inspected, starts off with the start node\n",
        "    # closed list is a list of nodes which have been visited\n",
        "    # and who's neighbors have been inspected\n",
        "    open_list = set([start_node])\n",
        "    closed_list = set([])\n",
        "\n",
        "    # g contains current distances from start_node to all other nodes\n",
        "    # the default value (if it's not set yet) is +infinity\n",
        "    g = {}\n",
        "\n",
        "    g[start_node] = 0\n",
        "\n",
        "    # parents contains an adjacency map of all nodes\n",
        "    parents = {}\n",
        "    parents[start_node] = start_node\n",
        "\n",
        "    while len(open_list) > 0:\n",
        "      n = None\n",
        "\n",
        "      # find a node with the lowest value of f() - evaluation function\n",
        "      for v in open_list:\n",
        "        if n == None or g[v] + self.h(v) < g[n] + self.h(n):\n",
        "          n = v;\n",
        "\n",
        "      if n == None:\n",
        "        print('Path does not exist!')\n",
        "        return None\n",
        "\n",
        "      # if the current node is the stop_node\n",
        "      # then we begin reconstructing the path from it to the start_node\n",
        "      if n == stop_node:\n",
        "        reconst_path = []\n",
        "\n",
        "        while parents[n] != n:\n",
        "          reconst_path.append(n)\n",
        "          n = parents[n]\n",
        "\n",
        "        reconst_path.append(start_node)\n",
        "\n",
        "        reconst_path.reverse()\n",
        "\n",
        "        print('Path found: {}'.format(reconst_path))\n",
        "        return reconst_path\n",
        "\n",
        "      # for all neighbors of the current node do\n",
        "      for (m, weight) in self.get_neighbors(n):\n",
        "        # if the current node isn't in both open_list and closed_list\n",
        "        # add it to open_list and note n as it's parent\n",
        "        if m not in open_list and m not in closed_list:\n",
        "          open_list.add(m)\n",
        "          parents[m] = n\n",
        "          g[m] = g[n] + weight\n",
        "\n",
        "        # otherwise, check if it's quicker to first visit n, then m\n",
        "        # and if it is, update parent data and g data\n",
        "        # and if the node was in the closed_list, move it to open_list\n",
        "        else:\n",
        "          if g[m] > g[n] + weight:\n",
        "            g[m] = g[n] + weight\n",
        "            parents[m] = n\n",
        "\n",
        "            if m in closed_list:\n",
        "              closed_list.remove(m)\n",
        "              open_list.add(m)\n",
        "\n",
        "      # remove n from the open_list, and add it to closed_list\n",
        "      # because all of his neighbors were inspected\n",
        "      open_list.remove(n)\n",
        "      closed_list.add(n)\n",
        "\n",
        "    print('Path does not exist!')\n",
        "    return None\n",
        "\n",
        "adjacency_list = {\n",
        "  'A': [('B', 1), ('C', 3), ('D', 7)],\n",
        "  'B': [('D', 5)],\n",
        "  'C': [('D', 12)]\n",
        "}\n",
        "graph1 = Graph(adjacency_list)\n",
        "graph1.a_star_algorithm('A', 'D')"
      ],
      "metadata": {
        "id": "Nd91LxFvebN4",
        "colab": {
          "base_uri": "https://localhost:8080/"
        },
        "outputId": "dc02d661-1810-429c-aa6d-0b378f5be068"
      },
      "execution_count": null,
      "outputs": [
        {
          "output_type": "stream",
          "name": "stdout",
          "text": [
            "Path found: ['A', 'B', 'D']\n"
          ]
        },
        {
          "output_type": "execute_result",
          "data": {
            "text/plain": [
              "['A', 'B', 'D']"
            ]
          },
          "metadata": {},
          "execution_count": 3
        }
      ]
    },
    {
      "cell_type": "code",
      "source": [
        "# //*Tugas 2.1.3*//\n",
        "\n",
        "from collections import defaultdict\n",
        "\n",
        "class Graph:\n",
        "    def __init__(self):\n",
        "        self.edges = defaultdict(list)\n",
        "        self.weights = {}\n",
        "\n",
        "    def add_edge(self, from_node, to_node, weight):\n",
        "        # Graph tak berarah\n",
        "        self.edges[from_node].append(to_node)\n",
        "        self.edges[to_node].append(from_node)\n",
        "        self.weights[(from_node, to_node)] = weight\n",
        "        self.weights[(to_node, from_node)] = weight\n",
        "\n",
        "graph = Graph()\n",
        "\n",
        "edges = [\n",
        "    ('A', 'C', 4),\n",
        "    ('A', 'G', 9),\n",
        "    ('G', 'E', 6),\n",
        "    ('C', 'D', 6),\n",
        "    ('C', 'H', 12),\n",
        "    ('D', 'E', 7),\n",
        "    ('H', 'F', 15),\n",
        "    ('E', 'F', 8),\n",
        "    ('F', 'B', 5),\n",
        "]\n",
        "\n",
        "for edge in edges:\n",
        "    graph.add_edge(*edge)\n",
        "\n",
        "def dijsktra(graph, initial, end):\n",
        "    shortest_paths = {initial: (None, 0)}\n",
        "    current_node = initial\n",
        "    visited = set()\n",
        "\n",
        "    while current_node != end:\n",
        "        visited.add(current_node)\n",
        "        destinations = graph.edges[current_node]\n",
        "        weight_to_current_node = shortest_paths[current_node][1]\n",
        "\n",
        "        for next_node in destinations:\n",
        "            weight = graph.weights[(current_node, next_node)] + weight_to_current_node\n",
        "            if next_node not in shortest_paths:\n",
        "                shortest_paths[next_node] = (current_node, weight)\n",
        "            else:\n",
        "                current_shortest_weight = shortest_paths[next_node][1]\n",
        "                if current_shortest_weight > weight:\n",
        "                    shortest_paths[next_node] = (current_node, weight)\n",
        "\n",
        "        next_destinations = {node: shortest_paths[node] for node in shortest_paths if node not in visited}\n",
        "        if not next_destinations:\n",
        "            return \"Route Not Possible\"\n",
        "        # next node merupakan tujuan dengan weight paling rendah\n",
        "        current_node = min(next_destinations, key=lambda k: next_destinations[k][1])\n",
        "\n",
        "    path = []\n",
        "    while current_node is not None:\n",
        "        path.append(current_node)\n",
        "        next_node = shortest_paths[current_node][0]\n",
        "        current_node = next_node\n",
        "    # Reverse path\n",
        "    path = path[::-1]\n",
        "    return path\n",
        "\n",
        "print(dijsktra(graph, 'A', 'F'))"
      ],
      "metadata": {
        "colab": {
          "base_uri": "https://localhost:8080/"
        },
        "id": "hKh1CgU07xMg",
        "outputId": "b67bf651-4eef-4c8e-fe76-3c7845051aa9"
      },
      "execution_count": null,
      "outputs": [
        {
          "output_type": "stream",
          "name": "stdout",
          "text": [
            "['A', 'G', 'E', 'F']\n"
          ]
        }
      ]
    },
    {
      "cell_type": "code",
      "source": [
        "# //*Praktikum 2*//\n",
        "\n",
        "DAG = {'A': {'C': 4, 'G': 9},\n",
        "  'G': {'E': 6},\n",
        "  'C': {'D': 6, 'H': 12},\n",
        "  'D': {'E': 7},\n",
        "  'H': {'F': 15},\n",
        "  'E': {'F': 8},\n",
        "  'F': {'B': 5}}\n",
        "\n",
        "def shortest_path(graph, source, dest):\n",
        "  result = []\n",
        "  result.append(source)\n",
        "\n",
        "  while dest not in result:\n",
        "    current_node = result[-1]\n",
        "    local_max = min(graph[current_node].values())\n",
        "    for node, weight in graph[current_node].items():\n",
        "      if weight == local_max:\n",
        "        result.append(node)\n",
        "        return result\n",
        "\n",
        "print(shortest_path(DAG, 'A', 'F'))"
      ],
      "metadata": {
        "id": "AkhgFAZeFAeM",
        "colab": {
          "base_uri": "https://localhost:8080/"
        },
        "outputId": "feb13403-4f1e-4bc0-f937-3d885e6b7c0a"
      },
      "execution_count": null,
      "outputs": [
        {
          "output_type": "stream",
          "name": "stdout",
          "text": [
            "['A', 'C']\n"
          ]
        }
      ]
    },
    {
      "cell_type": "code",
      "source": [
        "# //*Praktikum 3*//\n",
        "\n",
        "item = [[3, 4], [4, 5], [1, 2], [7, 5], [6, 5], [8, 8], [9, 11]]\n",
        "\n",
        "from operator import itemgetter, attrgetter\n",
        "w = [3, 4, 1, 7, 6, 8, 9]\n",
        "p = [4, 5, 2, 5, 5, 8, 11]\n",
        "item = [[3, 4], [4, 5], [1, 2], [7, 5], [6, 5], [8, 8], [9, 11]]\n",
        "\n",
        "i=0\n",
        "while i < len(item):\n",
        "  hasil = item[i][1]/item[i][0]\n",
        "  item[i].append(hasil)\n",
        "  i+=1\n",
        "data = sorted(item, key=itemgetter(2), reverse=True)\n",
        "\n",
        "def knapsack(data, cap, flag):\n",
        "  total=0\n",
        "  tres = \"\"\n",
        "  if(flag==0):\n",
        "    dataS = sorted(data, key=itemgetter(flag), reverse=True)\n",
        "    tres=\"bobot prioritas : \"\n",
        "  elif(flag==1):\n",
        "    dataS = sorted(data, key=itemgetter(flag), reverse=True)\n",
        "    tres=\"keuntungan prioritas : \"\n",
        "  elif(flag==2):\n",
        "    dataS = sorted(data, key=itemgetter(flag), reverse=True)\n",
        "    tres=\"p prioritas : \"\n",
        "\n",
        "  j=0\n",
        "  hasil=0\n",
        "  # print(\"sini\")\n",
        "  cek=0\n",
        "  weight=0\n",
        "  while j < len(dataS):\n",
        "    if(cek+dataS[j][0]<=cap):\n",
        "      hasil=hasil+dataS[j][1]\n",
        "      weight=weight+dataS[j][0]\n",
        "      print(dataS[j][0])\n",
        "    cek=weight\n",
        "    j+=1\n",
        "    #print(\"here\")\n",
        "    return(\"optimal dalam \"+str(tres)+str(hasil))\n",
        "\n",
        "print(knapsack(data, 20, 0))\n",
        "print(knapsack(data, 20, 1))\n",
        "print(knapsack(data, 20, 2))"
      ],
      "metadata": {
        "colab": {
          "base_uri": "https://localhost:8080/"
        },
        "id": "G3U0eEqhxPbc",
        "outputId": "e3470f07-778f-4193-e965-b173b6c180e1"
      },
      "execution_count": null,
      "outputs": [
        {
          "output_type": "stream",
          "name": "stdout",
          "text": [
            "9\n",
            "optimal dalam bobot prioritas : 11\n",
            "9\n",
            "optimal dalam keuntungan prioritas : 11\n",
            "1\n",
            "optimal dalam p prioritas : 2\n"
          ]
        }
      ]
    }
  ]
}